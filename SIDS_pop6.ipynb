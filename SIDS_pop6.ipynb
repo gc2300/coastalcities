{
 "cells": [
  {
   "cell_type": "code",
   "execution_count": 2,
   "metadata": {},
   "outputs": [
    {
     "name": "stdout",
     "output_type": "stream",
     "text": [
      "Enabling notebook extension jupyter-js-widgets/extension...\n",
      "      - Validating: \u001b[32mOK\u001b[0m\n",
      "Populating the interactive namespace from numpy and matplotlib\n"
     ]
    }
   ],
   "source": [
    "!jupyter nbextension enable --py widgetsnbextension\n",
    "import numpy as np\n",
    "import pandas as pd\n",
    "from arcgis import GIS\n",
    "from arcgis.geocoding import geocode\n",
    "from IPython.display import display, Image\n",
    "from arcgis.raster import ImageryLayer\n",
    "from arcgis.features import GeoAccessor, GeoSeriesAccessor\n",
    "from arcgis.geometry import Polygon, Envelope\n",
    "from arcgis.raster.functions import clip\n",
    "\n",
    "from osgeo import gdal, gdalconst, gdal_array\n",
    "import pylab as plt\n",
    "import warnings\n",
    "warnings.simplefilter('ignore')\n",
    "%pylab inline"
   ]
  },
  {
   "cell_type": "code",
   "execution_count": 149,
   "metadata": {},
   "outputs": [
    {
     "name": "stdout",
     "output_type": "stream",
     "text": [
      "Logged on as nj935_\n"
     ]
    }
   ],
   "source": [
    "gis = GIS(url='https://nkwjones.maps.arcgis.com',username='nj935_',password='Bemelmans1')\n",
    "print(\"Logged on as {}\".format(gis.properties.user[\"username\"]))"
   ]
  },
  {
   "cell_type": "markdown",
   "metadata": {},
   "source": [
    "### 1. Get data: borders, elevation, population\n"
   ]
  },
  {
   "cell_type": "code",
   "execution_count": 4,
   "metadata": {},
   "outputs": [],
   "source": [
    "ESRI_pop = gis.content.get('625e9da1afed40b78aaf412f519b22d3')\n",
    "pop_lyr = ESRI_pop.layers[0]"
   ]
  },
  {
   "cell_type": "code",
   "execution_count": 5,
   "metadata": {},
   "outputs": [],
   "source": [
    "ESRI_elevation = gis.content.get('58a541efc59545e6b7137f961d7de883')\n",
    "elev_lyr = ESRI_elevation.layers[0]"
   ]
  },
  {
   "cell_type": "code",
   "execution_count": 6,
   "metadata": {},
   "outputs": [],
   "source": [
    "world_boundaries = gis.content.get(\"2b93b06dc0dc4e809d3c8db5cb96ba69\")\n",
    "boundary_lyr = world_boundaries.layers[0]"
   ]
  },
  {
   "cell_type": "markdown",
   "metadata": {},
   "source": [
    "### 2. Create a table of SIDS\n",
    "- name\n",
    "- national borders (geometry object)\n",
    "- bounding box (geometry object using ArcGIS geocoder)"
   ]
  },
  {
   "cell_type": "code",
   "execution_count": 152,
   "metadata": {},
   "outputs": [],
   "source": [
    "SIDS = [\n",
    "'Antigua and Barbuda','Cook Islands','Cape Verde','Federated States of Micronesia','Comoros',\n",
    "    'Bahamas','Fiji','Guinea-Bissau','Barbados','Maldives','Belize','Mauritius','Kiribati','São Tomé and Príncipe',\n",
    "    'Cuba','Marshall Islands','Seychelles','Dominica','Nauru','Dominican Republic','Grenada',\n",
    "    'Niue','Guyana','Haiti','Palau','Jamaica','Papua New Guinea','Samoa','Solomon Islands',\n",
    "    'Timor-Leste','Saint Kitts and Nevis','Tonga','Saint Lucia','Tuvalu',\n",
    "    'Saint Vincent and the Grenadines','Vanuatu','Suriname','Trinidad and Tobago']"
   ]
  },
  {
   "cell_type": "code",
   "execution_count": 153,
   "metadata": {},
   "outputs": [],
   "source": [
    "SIDS_table = pd.DataFrame.spatial.from_layer(boundary_lyr)\n",
    "SIDS_table.drop(columns=['AFF_ISO','FID','ISO','COUNTRYAFF'],inplace=True)\n",
    "SIDS_table = SIDS_table[SIDS_table['Country'].isin(SIDS)]\n",
    "SIDS_table.set_index(\"Country\",inplace=True)\n",
    "SIDS_table['Country'] = SIDS_table.index"
   ]
  },
  {
   "cell_type": "code",
   "execution_count": 205,
   "metadata": {},
   "outputs": [
    {
     "data": {
      "text/html": [
       "<div>\n",
       "<style scoped>\n",
       "    .dataframe tbody tr th:only-of-type {\n",
       "        vertical-align: middle;\n",
       "    }\n",
       "\n",
       "    .dataframe tbody tr th {\n",
       "        vertical-align: top;\n",
       "    }\n",
       "\n",
       "    .dataframe thead th {\n",
       "        text-align: right;\n",
       "    }\n",
       "</style>\n",
       "<table border=\"1\" class=\"dataframe\">\n",
       "  <thead>\n",
       "    <tr style=\"text-align: right;\">\n",
       "      <th></th>\n",
       "      <th>SHAPE</th>\n",
       "      <th>Country</th>\n",
       "    </tr>\n",
       "    <tr>\n",
       "      <th>Country</th>\n",
       "      <th></th>\n",
       "      <th></th>\n",
       "    </tr>\n",
       "  </thead>\n",
       "  <tbody>\n",
       "    <tr>\n",
       "      <th>Guyana</th>\n",
       "      <td>{\"rings\": [[[-6475746.20510377, 760125.6448030...</td>\n",
       "      <td>Guyana</td>\n",
       "    </tr>\n",
       "    <tr>\n",
       "      <th>Suriname</th>\n",
       "      <td>{\"rings\": [[[-6136816.88138343, 649239.6407875...</td>\n",
       "      <td>Suriname</td>\n",
       "    </tr>\n",
       "  </tbody>\n",
       "</table>\n",
       "</div>"
      ],
      "text/plain": [
       "                                                      SHAPE   Country\n",
       "Country                                                              \n",
       "Guyana    {\"rings\": [[[-6475746.20510377, 760125.6448030...    Guyana\n",
       "Suriname  {\"rings\": [[[-6136816.88138343, 649239.6407875...  Suriname"
      ]
     },
     "execution_count": 205,
     "metadata": {},
     "output_type": "execute_result"
    }
   ],
   "source": [
    "SIDS_table.head(2)"
   ]
  },
  {
   "cell_type": "code",
   "execution_count": 154,
   "metadata": {},
   "outputs": [
    {
     "data": {
      "application/vnd.jupyter.widget-view+json": {
       "model_id": "4d9bec2e52a243acbb106a70313edb3f",
       "version_major": 2,
       "version_minor": 0
      },
      "text/plain": [
       "MapView(layout=Layout(height='400px', width='100%'))"
      ]
     },
     "metadata": {},
     "output_type": "display_data"
    }
   ],
   "source": [
    "m = gis.map()\n",
    "m"
   ]
  },
  {
   "cell_type": "code",
   "execution_count": 206,
   "metadata": {},
   "outputs": [
    {
     "data": {
      "text/plain": [
       "True"
      ]
     },
     "execution_count": 206,
     "metadata": {},
     "output_type": "execute_result"
    }
   ],
   "source": [
    "SIDS_table.spatial.plot(map_widget=m)"
   ]
  },
  {
   "cell_type": "markdown",
   "metadata": {},
   "source": [
    "### 3. Output population and elevation rasters"
   ]
  },
  {
   "cell_type": "code",
   "execution_count": 11,
   "metadata": {},
   "outputs": [
    {
     "name": "stdout",
     "output_type": "stream",
     "text": [
      "mkdir: rasters_sept_10: File exists\n"
     ]
    }
   ],
   "source": [
    "! mkdir \"rasters_sept_10\""
   ]
  },
  {
   "cell_type": "code",
   "execution_count": null,
   "metadata": {},
   "outputs": [],
   "source": [
    "# Variables for the raster export function\n",
    "# set the export folder here\n",
    "\n",
    "folder = 'rasters_sept_10'\n",
    "sr = pop_lyr.properties.spatialReference\n",
    "names_dict = {pop_lyr:\"pop\",elev_lyr:\"elev\"}"
   ]
  },
  {
   "cell_type": "code",
   "execution_count": null,
   "metadata": {},
   "outputs": [],
   "source": [
    "countries = "
   ]
  },
  {
   "cell_type": "code",
   "execution_count": 81,
   "metadata": {},
   "outputs": [],
   "source": [
    "# Function to output rasters for elevation or population, clipped to national borders\n",
    "\n",
    "def output_raster(country,layer):\n",
    "    \n",
    "        filename = names_dict[layer]+'_'+str(country)\n",
    "\n",
    "        AOI = geocode(country,category = \"Country\",out_sr=sr)[0]['extent']\n",
    "        AOI['spatialReference'] = sr\n",
    "        layer.extent = AOI\n",
    "\n",
    "        clipped = clip(layer,SIDS_table.at[country,'SHAPE'])\n",
    "        clipped.export_image(f='image', bbox = AOI, export_format='tiff',\n",
    "                        save_folder = folder, save_file=filename)\n"
   ]
  },
  {
   "cell_type": "code",
   "execution_count": 83,
   "metadata": {},
   "outputs": [],
   "source": [
    "for i in SIDS_table.Country:\n",
    "    output_raster(i, pop_lyr)\n",
    "    output_raster(i, elev_lyr)"
   ]
  },
  {
   "cell_type": "markdown",
   "metadata": {},
   "source": [
    "### 4. Visualize the results"
   ]
  },
  {
   "cell_type": "code",
   "execution_count": null,
   "metadata": {},
   "outputs": [],
   "source": [
    "def show_elev(country,max_elev):\n",
    "    elev_data = gdal.Open(folder + '/elev_' + country, gdal.GA_ReadOnly)\n",
    "    elev = elev_data.ReadAsArray()\n",
    "    \n",
    "    pop_data = gdal.Open(folder + '/pop_' + country, gdal.GA_ReadOnly)\n",
    "    pop = pop_data.ReadAsArray()\n",
    "    \n",
    "    mask = ((elev>0) & (elev<max_elev))\n",
    "    plt.imshow(mask)\n",
    "    plt.title(\"{}: Land up to {} m\".format(country,max_elev))"
   ]
  },
  {
   "cell_type": "code",
   "execution_count": 53,
   "metadata": {},
   "outputs": [
    {
     "data": {
      "image/png": "[encoded data removed]",
      "text/plain": [
       "<Figure size 432x288 with 1 Axes>"
      ]
     },
     "metadata": {},
     "output_type": "display_data"
    }
   ],
   "source": [
    "country = \"Haiti\"\n",
    "img_data = gdal.Open(folder+'/pop_'+country, gdal.GA_ReadOnly)\n",
    "img = img_data.ReadAsArray()\n",
    "plt.imshow((img>1) & (img<100000))\n",
    "plt.title(\"{} population\".format(country));"
   ]
  },
  {
   "cell_type": "code",
   "execution_count": 203,
   "metadata": {},
   "outputs": [
    {
     "data": {
      "image/png": "[encoded data removed]",
      "text/plain": [
       "<Figure size 432x288 with 1 Axes>"
      ]
     },
     "metadata": {},
     "output_type": "display_data"
    }
   ],
   "source": [
    "show_elev(\"Haiti\",10)"
   ]
  },
  {
   "cell_type": "code",
   "execution_count": 204,
   "metadata": {},
   "outputs": [
    {
     "data": {
      "image/png": "[encoded data removed]",
      "text/plain": [
       "<Figure size 432x288 with 1 Axes>"
      ]
     },
     "metadata": {},
     "output_type": "display_data"
    }
   ],
   "source": [
    "show_elev(\"Haiti\",50)"
   ]
  },
  {
   "cell_type": "code",
   "execution_count": 117,
   "metadata": {},
   "outputs": [
    {
     "data": {
      "image/png": "[encoded data removed]",
      "text/plain": [
       "<Figure size 432x288 with 1 Axes>"
      ]
     },
     "metadata": {},
     "output_type": "display_data"
    }
   ],
   "source": [
    "show_elev(\"Nauru\",10)"
   ]
  },
  {
   "cell_type": "markdown",
   "metadata": {},
   "source": [
    "### 5. Calculate population at different elevations"
   ]
  },
  {
   "cell_type": "code",
   "execution_count": 88,
   "metadata": {},
   "outputs": [],
   "source": [
    "def count_pop_exposed(country):\n",
    "    elev_data = gdal.Open(folder + '/elev_' + country, gdal.GA_ReadOnly)\n",
    "    elev = elev_data.ReadAsArray()\n",
    "    \n",
    "    pop_data = gdal.Open(folder + '/pop_' + country, gdal.GA_ReadOnly)\n",
    "    pop = pop_data.ReadAsArray()\n",
    "    \n",
    "    mask_land = (elev>0)\n",
    "    mask_100m = ((elev>0) & (elev<100))\n",
    "    mask_50m = ((elev>0) & (elev<50))\n",
    "    mask_20m = ((elev>0) & (elev<20))\n",
    "    mask_10m = ((elev>0) & (elev<10))\n",
    "    mask_5m = ((elev>0) & (elev<5))\n",
    "    \n",
    "    output = [np.sum(pop[mask_land]),np.sum(pop[mask_100m]),np.sum(pop[mask_50m]),\n",
    "          np.sum(pop[mask_20m]),np.sum(pop[mask_10m]),np.sum(pop[mask_5m])]\n",
    "    \n",
    "    pop_exposed = pd.DataFrame({\"elevation\":[\"all\",100,50,20,10,5],\"population\":output})\n",
    "    pop_exposed['percent_total'] = pop_exposed['population'] / pop_exposed.population[0]\n",
    "    \n",
    "    #pop_exposed.plot.bar(x=\"elevation\",y='percent_total',color='b',\n",
    "    #                 title='{}: Percent population by meters above sea level'.format(country))\n",
    "    \n",
    "    return(pop_exposed.population.tolist(),pop_exposed.percent_total.tolist())"
   ]
  },
  {
   "cell_type": "code",
   "execution_count": 105,
   "metadata": {},
   "outputs": [],
   "source": [
    "df_pc = pd.DataFrame({\"Country\":SIDS_table.Country}).set_index('Country').T"
   ]
  },
  {
   "cell_type": "code",
   "execution_count": 106,
   "metadata": {},
   "outputs": [],
   "source": [
    "for i in df_total.columns:\n",
    "    df_total[i] = count_pop_exposed(i)[0]\n",
    "    \n",
    "for i in df_pc.columns:\n",
    "    df_pc[i] = count_pop_exposed(i)[1]"
   ]
  },
  {
   "cell_type": "markdown",
   "metadata": {},
   "source": [
    "### 6. Plot figures"
   ]
  },
  {
   "cell_type": "code",
   "execution_count": 107,
   "metadata": {},
   "outputs": [
    {
     "data": {
      "text/html": [
       "<div>\n",
       "<style scoped>\n",
       "    .dataframe tbody tr th:only-of-type {\n",
       "        vertical-align: middle;\n",
       "    }\n",
       "\n",
       "    .dataframe tbody tr th {\n",
       "        vertical-align: top;\n",
       "    }\n",
       "\n",
       "    .dataframe thead th {\n",
       "        text-align: right;\n",
       "    }\n",
       "</style>\n",
       "<table border=\"1\" class=\"dataframe\">\n",
       "  <thead>\n",
       "    <tr style=\"text-align: right;\">\n",
       "      <th></th>\n",
       "      <th>all</th>\n",
       "      <th>100m</th>\n",
       "      <th>50m</th>\n",
       "      <th>20m</th>\n",
       "      <th>10m</th>\n",
       "      <th>5m</th>\n",
       "    </tr>\n",
       "    <tr>\n",
       "      <th>Country</th>\n",
       "      <th></th>\n",
       "      <th></th>\n",
       "      <th></th>\n",
       "      <th></th>\n",
       "      <th></th>\n",
       "      <th></th>\n",
       "    </tr>\n",
       "  </thead>\n",
       "  <tbody>\n",
       "    <tr>\n",
       "      <th>Guyana</th>\n",
       "      <td>1.0</td>\n",
       "      <td>0.794286</td>\n",
       "      <td>0.794286</td>\n",
       "      <td>0.777143</td>\n",
       "      <td>0.720000</td>\n",
       "      <td>0.657143</td>\n",
       "    </tr>\n",
       "    <tr>\n",
       "      <th>Suriname</th>\n",
       "      <td>1.0</td>\n",
       "      <td>0.994286</td>\n",
       "      <td>0.994286</td>\n",
       "      <td>0.977143</td>\n",
       "      <td>0.777143</td>\n",
       "      <td>0.531429</td>\n",
       "    </tr>\n",
       "    <tr>\n",
       "      <th>Trinidad and Tobago</th>\n",
       "      <td>1.0</td>\n",
       "      <td>0.999998</td>\n",
       "      <td>0.999995</td>\n",
       "      <td>0.995523</td>\n",
       "      <td>0.959804</td>\n",
       "      <td>0.848197</td>\n",
       "    </tr>\n",
       "    <tr>\n",
       "      <th>Cook Islands</th>\n",
       "      <td>1.0</td>\n",
       "      <td>1.000000</td>\n",
       "      <td>1.000000</td>\n",
       "      <td>0.428571</td>\n",
       "      <td>0.285714</td>\n",
       "      <td>0.142857</td>\n",
       "    </tr>\n",
       "    <tr>\n",
       "      <th>Niue</th>\n",
       "      <td>1.0</td>\n",
       "      <td>1.000000</td>\n",
       "      <td>0.999753</td>\n",
       "      <td>0.999745</td>\n",
       "      <td>0.999745</td>\n",
       "      <td>0.999745</td>\n",
       "    </tr>\n",
       "  </tbody>\n",
       "</table>\n",
       "</div>"
      ],
      "text/plain": [
       "                     all      100m       50m       20m       10m        5m\n",
       "Country                                                                   \n",
       "Guyana               1.0  0.794286  0.794286  0.777143  0.720000  0.657143\n",
       "Suriname             1.0  0.994286  0.994286  0.977143  0.777143  0.531429\n",
       "Trinidad and Tobago  1.0  0.999998  0.999995  0.995523  0.959804  0.848197\n",
       "Cook Islands         1.0  1.000000  1.000000  0.428571  0.285714  0.142857\n",
       "Niue                 1.0  1.000000  0.999753  0.999745  0.999745  0.999745"
      ]
     },
     "execution_count": 107,
     "metadata": {},
     "output_type": "execute_result"
    }
   ],
   "source": [
    "df_pc=df_pc.T\n",
    "df_pc.columns=[\"all\",'100m','50m','20m','10m','5m']\n",
    "df_pc.head()"
   ]
  },
  {
   "cell_type": "code",
   "execution_count": 146,
   "metadata": {},
   "outputs": [
    {
     "data": {
      "image/png": "[encoded data removed]",
      "text/plain": [
       "<Figure size 432x432 with 1 Axes>"
      ]
     },
     "metadata": {},
     "output_type": "display_data"
    }
   ],
   "source": [
    "f,ax = plt.subplots(figsize=[6,6])\n",
    "df_pc['5m'].sort_values(ascending=False)[:20].plot(kind='barh',figsize=[6,6],color='blue',ax=ax)\n",
    "plt.suptitle(\"Percent population at 5m or less\")\n",
    "ax.invert_yaxis()"
   ]
  },
  {
   "cell_type": "code",
   "execution_count": 224,
   "metadata": {},
   "outputs": [
    {
     "data": {
      "image/png": "[encoded data removed]",
      "text/plain": [
       "<Figure size 504x288 with 1 Axes>"
      ]
     },
     "metadata": {},
     "output_type": "display_data"
    }
   ],
   "source": [
    "f,ax = plt.subplots(figsize=[7,4])\n",
    "df_pc.T[['Haiti','Fiji','Solomon Islands']].plot(kind='bar',ax=ax)\n",
    "ax.legend(loc=3)\n",
    "f.suptitle('Percent population by elevation');"
   ]
  },
  {
   "cell_type": "markdown",
   "metadata": {},
   "source": [
    "### 7. Inspect on a map"
   ]
  },
  {
   "cell_type": "code",
   "execution_count": 228,
   "metadata": {},
   "outputs": [
    {
     "data": {
      "application/vnd.jupyter.widget-view+json": {
       "model_id": "98ea7fadd7a846adb089bb75c102e9fd",
       "version_major": 2,
       "version_minor": 0
      },
      "text/plain": [
       "MapView(layout=Layout(height='400px', width='100%'))"
      ]
     },
     "metadata": {},
     "output_type": "display_data"
    }
   ],
   "source": [
    "m1 = gis.map(\"Haiti\")\n",
    "m1"
   ]
  },
  {
   "cell_type": "code",
   "execution_count": 231,
   "metadata": {},
   "outputs": [],
   "source": [
    "m1.add_layer(pop_lyr)"
   ]
  }
 ],
 "metadata": {
  "kernelspec": {
   "display_name": "arcgis2",
   "language": "python",
   "name": "arcgis2"
  },
  "language_info": {
   "codemirror_mode": {
    "name": "ipython",
    "version": 3
   },
   "file_extension": ".py",
   "mimetype": "text/x-python",
   "name": "python",
   "nbconvert_exporter": "python",
   "pygments_lexer": "ipython3",
   "version": "3.7.0"
  }
 },
 "nbformat": 4,
 "nbformat_minor": 2
}
